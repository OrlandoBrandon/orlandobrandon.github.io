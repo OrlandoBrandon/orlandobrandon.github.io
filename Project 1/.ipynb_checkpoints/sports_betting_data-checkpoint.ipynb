{
 "cells": [
  {
   "cell_type": "markdown",
   "id": "7cd847fd",
   "metadata": {},
   "source": [
    "## Introduction\n",
    "With sports gambling becoming legal in more states, sportsbooks have experienced a significant increase in profit margins. However, alongside this growth comes the challenge of mitigating losses, particularly for bets involving spreads. A spread, also known as the points spread, is one of the most popular styles of betting among NFL fans. It is designed to create a more balanced betting field by factoring in the predicted margin of victory for a favored team.\n",
    "\n",
    "To explain further, consider a hypothetical match between the Kansas City Chiefs and the Carolina Panthers. If the Chiefs, with an undefeated record of 7–0, are facing the Panthers, who are 2–5, sportsbooks might set the spread at -13.5 for the Chiefs. This means the Chiefs are expected to win by at least 14 points. Bettors have two main choices:\n",
    "1. **Bet on the Chiefs to \"cover the spread\"**: The Chiefs not only need to win but must do so by 14 or more points.\n",
    "2. **Bet on the Panthers**: The Panthers can win outright or lose by fewer than 14 points.\n",
    "\n",
    "For example, if the Panthers are given a +13.5 spread, this figure is added to their final score, making it possible for them to \"beat the spread\" even in a close loss. This mechanism not only influences betting behaviors but also shapes public perceptions of game outcomes.\n",
    "\n",
    "The objective of this project is to analyze the accuracy of these spread predictions by examining the relationship between the predicted spreads and the actual outcomes of games. Using the dataset titled **\"NFL Scores and Betting Data\"**, which spans games from 1966 to 2025, this analysis seeks to:\n",
    "- Identify patterns of spread accuracy over time.\n",
    "- Investigate outliers where spreads were significantly off.\n",
    "- Gain a deeper understanding of how spread predictions have evolved and their implications for bettors and sportsbooks.\n",
    "\n",
    "This exploration will not only provide insights for sports bettors like myself but will also shed light on the dynamics and methodologies behind these predictions, contributing to a broader understanding of their accuracy and evolution.\n",
    "\n",
    "## Dataset\n",
    "The dataset I will be using is titled **\"NFL Scores and Betting Data\"**, which spans games from 1966 to 2025 and includes 14,086 rows with 17 columns. It provides a rich source of information on historical NFL games, including team scores, spreads, weather conditions, and game settings.\n",
    "\n",
    "### Key Columns Used in This Analysis\n",
    "- **Score_home and Score_away**: These include the final scores from both the home and away teams.\n",
    "- **Spread_favorite**: This is the predicted spread from the sportsbook.\n",
    "- **Team_favorite_id**: Team predicted to win by the sportsbook.\n",
    "- **Scheduled_date**: The date of each game.\n",
    "- **Weather_temperature, Weather_wind_mph, and Weather_humidity**: These are all environmental factors that play a part in the game's possible outcome.\n",
    "\n",
    "I will preprocess the data to handle missing values, engineer new features such as point differential and spread error, and perform exploratory data analysis to extract meaningful insights.\n"
   ]
  },
  {
   "cell_type": "code",
   "execution_count": 76,
   "id": "98b1acbe",
   "metadata": {},
   "outputs": [],
   "source": [
    "import pandas as pd\n",
    "import matplotlib.pyplot as plt\n",
    "import seaborn as sns\n",
    "\n"
   ]
  },
  {
   "cell_type": "code",
   "execution_count": 57,
   "id": "a089aaf2",
   "metadata": {},
   "outputs": [],
   "source": [
    "spread_data = pd.read_csv(\"spreadspoke_scores.csv\")"
   ]
  },
  {
   "cell_type": "code",
   "execution_count": 58,
   "id": "e4f9c720",
   "metadata": {},
   "outputs": [
    {
     "data": {
      "text/html": [
       "<div>\n",
       "<style scoped>\n",
       "    .dataframe tbody tr th:only-of-type {\n",
       "        vertical-align: middle;\n",
       "    }\n",
       "\n",
       "    .dataframe tbody tr th {\n",
       "        vertical-align: top;\n",
       "    }\n",
       "\n",
       "    .dataframe thead th {\n",
       "        text-align: right;\n",
       "    }\n",
       "</style>\n",
       "<table border=\"1\" class=\"dataframe\">\n",
       "  <thead>\n",
       "    <tr style=\"text-align: right;\">\n",
       "      <th></th>\n",
       "      <th>schedule_date</th>\n",
       "      <th>schedule_season</th>\n",
       "      <th>schedule_week</th>\n",
       "      <th>schedule_playoff</th>\n",
       "      <th>team_home</th>\n",
       "      <th>score_home</th>\n",
       "      <th>score_away</th>\n",
       "      <th>team_away</th>\n",
       "      <th>team_favorite_id</th>\n",
       "      <th>spread_favorite</th>\n",
       "      <th>over_under_line</th>\n",
       "      <th>stadium</th>\n",
       "      <th>stadium_neutral</th>\n",
       "      <th>weather_temperature</th>\n",
       "      <th>weather_wind_mph</th>\n",
       "      <th>weather_humidity</th>\n",
       "      <th>weather_detail</th>\n",
       "    </tr>\n",
       "  </thead>\n",
       "  <tbody>\n",
       "    <tr>\n",
       "      <th>0</th>\n",
       "      <td>9/2/1966</td>\n",
       "      <td>1966</td>\n",
       "      <td>1</td>\n",
       "      <td>False</td>\n",
       "      <td>Miami Dolphins</td>\n",
       "      <td>14.0</td>\n",
       "      <td>23.0</td>\n",
       "      <td>Oakland Raiders</td>\n",
       "      <td>NaN</td>\n",
       "      <td>NaN</td>\n",
       "      <td>NaN</td>\n",
       "      <td>Orange Bowl</td>\n",
       "      <td>False</td>\n",
       "      <td>83.0</td>\n",
       "      <td>6.0</td>\n",
       "      <td>71.0</td>\n",
       "      <td>NaN</td>\n",
       "    </tr>\n",
       "    <tr>\n",
       "      <th>1</th>\n",
       "      <td>9/3/1966</td>\n",
       "      <td>1966</td>\n",
       "      <td>1</td>\n",
       "      <td>False</td>\n",
       "      <td>Houston Oilers</td>\n",
       "      <td>45.0</td>\n",
       "      <td>7.0</td>\n",
       "      <td>Denver Broncos</td>\n",
       "      <td>NaN</td>\n",
       "      <td>NaN</td>\n",
       "      <td>NaN</td>\n",
       "      <td>Rice Stadium</td>\n",
       "      <td>False</td>\n",
       "      <td>81.0</td>\n",
       "      <td>7.0</td>\n",
       "      <td>70.0</td>\n",
       "      <td>NaN</td>\n",
       "    </tr>\n",
       "    <tr>\n",
       "      <th>2</th>\n",
       "      <td>9/4/1966</td>\n",
       "      <td>1966</td>\n",
       "      <td>1</td>\n",
       "      <td>False</td>\n",
       "      <td>San Diego Chargers</td>\n",
       "      <td>27.0</td>\n",
       "      <td>7.0</td>\n",
       "      <td>Buffalo Bills</td>\n",
       "      <td>NaN</td>\n",
       "      <td>NaN</td>\n",
       "      <td>NaN</td>\n",
       "      <td>Balboa Stadium</td>\n",
       "      <td>False</td>\n",
       "      <td>70.0</td>\n",
       "      <td>7.0</td>\n",
       "      <td>82.0</td>\n",
       "      <td>NaN</td>\n",
       "    </tr>\n",
       "    <tr>\n",
       "      <th>3</th>\n",
       "      <td>9/9/1966</td>\n",
       "      <td>1966</td>\n",
       "      <td>2</td>\n",
       "      <td>False</td>\n",
       "      <td>Miami Dolphins</td>\n",
       "      <td>14.0</td>\n",
       "      <td>19.0</td>\n",
       "      <td>New York Jets</td>\n",
       "      <td>NaN</td>\n",
       "      <td>NaN</td>\n",
       "      <td>NaN</td>\n",
       "      <td>Orange Bowl</td>\n",
       "      <td>False</td>\n",
       "      <td>82.0</td>\n",
       "      <td>11.0</td>\n",
       "      <td>78.0</td>\n",
       "      <td>NaN</td>\n",
       "    </tr>\n",
       "    <tr>\n",
       "      <th>4</th>\n",
       "      <td>9/10/1966</td>\n",
       "      <td>1966</td>\n",
       "      <td>1</td>\n",
       "      <td>False</td>\n",
       "      <td>Green Bay Packers</td>\n",
       "      <td>24.0</td>\n",
       "      <td>3.0</td>\n",
       "      <td>Baltimore Colts</td>\n",
       "      <td>NaN</td>\n",
       "      <td>NaN</td>\n",
       "      <td>NaN</td>\n",
       "      <td>Lambeau Field</td>\n",
       "      <td>False</td>\n",
       "      <td>64.0</td>\n",
       "      <td>8.0</td>\n",
       "      <td>62.0</td>\n",
       "      <td>NaN</td>\n",
       "    </tr>\n",
       "  </tbody>\n",
       "</table>\n",
       "</div>"
      ],
      "text/plain": [
       "  schedule_date  schedule_season schedule_week  schedule_playoff  \\\n",
       "0      9/2/1966             1966             1             False   \n",
       "1      9/3/1966             1966             1             False   \n",
       "2      9/4/1966             1966             1             False   \n",
       "3      9/9/1966             1966             2             False   \n",
       "4     9/10/1966             1966             1             False   \n",
       "\n",
       "            team_home  score_home  score_away        team_away  \\\n",
       "0      Miami Dolphins        14.0        23.0  Oakland Raiders   \n",
       "1      Houston Oilers        45.0         7.0   Denver Broncos   \n",
       "2  San Diego Chargers        27.0         7.0    Buffalo Bills   \n",
       "3      Miami Dolphins        14.0        19.0    New York Jets   \n",
       "4   Green Bay Packers        24.0         3.0  Baltimore Colts   \n",
       "\n",
       "  team_favorite_id  spread_favorite over_under_line         stadium  \\\n",
       "0              NaN              NaN             NaN     Orange Bowl   \n",
       "1              NaN              NaN             NaN    Rice Stadium   \n",
       "2              NaN              NaN             NaN  Balboa Stadium   \n",
       "3              NaN              NaN             NaN     Orange Bowl   \n",
       "4              NaN              NaN             NaN   Lambeau Field   \n",
       "\n",
       "   stadium_neutral  weather_temperature  weather_wind_mph  weather_humidity  \\\n",
       "0            False                 83.0               6.0              71.0   \n",
       "1            False                 81.0               7.0              70.0   \n",
       "2            False                 70.0               7.0              82.0   \n",
       "3            False                 82.0              11.0              78.0   \n",
       "4            False                 64.0               8.0              62.0   \n",
       "\n",
       "  weather_detail  \n",
       "0            NaN  \n",
       "1            NaN  \n",
       "2            NaN  \n",
       "3            NaN  \n",
       "4            NaN  "
      ]
     },
     "execution_count": 58,
     "metadata": {},
     "output_type": "execute_result"
    }
   ],
   "source": [
    "spread_data.head()\n",
    "\n"
   ]
  },
  {
   "cell_type": "code",
   "execution_count": 59,
   "id": "1f79e44f",
   "metadata": {},
   "outputs": [
    {
     "data": {
      "text/plain": [
       "schedule_date           object\n",
       "schedule_season          int64\n",
       "schedule_week           object\n",
       "schedule_playoff          bool\n",
       "team_home               object\n",
       "score_home             float64\n",
       "score_away             float64\n",
       "team_away               object\n",
       "team_favorite_id        object\n",
       "spread_favorite        float64\n",
       "over_under_line         object\n",
       "stadium                 object\n",
       "stadium_neutral           bool\n",
       "weather_temperature    float64\n",
       "weather_wind_mph       float64\n",
       "weather_humidity       float64\n",
       "weather_detail          object\n",
       "dtype: object"
      ]
     },
     "execution_count": 59,
     "metadata": {},
     "output_type": "execute_result"
    }
   ],
   "source": [
    "spread_data.dtypes\n",
    "## value type "
   ]
  },
  {
   "cell_type": "code",
   "execution_count": 60,
   "id": "89986b20",
   "metadata": {},
   "outputs": [
    {
     "data": {
      "text/plain": [
       "Index(['schedule_date', 'schedule_season', 'schedule_week', 'schedule_playoff',\n",
       "       'team_home', 'score_home', 'score_away', 'team_away',\n",
       "       'team_favorite_id', 'spread_favorite', 'over_under_line', 'stadium',\n",
       "       'stadium_neutral', 'weather_temperature', 'weather_wind_mph',\n",
       "       'weather_humidity', 'weather_detail'],\n",
       "      dtype='object')"
      ]
     },
     "execution_count": 60,
     "metadata": {},
     "output_type": "execute_result"
    }
   ],
   "source": [
    "spread_data.columns "
   ]
  },
  {
   "cell_type": "code",
   "execution_count": 61,
   "id": "4d627f5a",
   "metadata": {},
   "outputs": [
    {
     "data": {
      "text/plain": [
       "(14086, 17)"
      ]
     },
     "execution_count": 61,
     "metadata": {},
     "output_type": "execute_result"
    }
   ],
   "source": [
    "spread_data.shape"
   ]
  },
  {
   "cell_type": "code",
   "execution_count": 62,
   "id": "e962127c",
   "metadata": {},
   "outputs": [
    {
     "data": {
      "text/html": [
       "<div>\n",
       "<style scoped>\n",
       "    .dataframe tbody tr th:only-of-type {\n",
       "        vertical-align: middle;\n",
       "    }\n",
       "\n",
       "    .dataframe tbody tr th {\n",
       "        vertical-align: top;\n",
       "    }\n",
       "\n",
       "    .dataframe thead th {\n",
       "        text-align: right;\n",
       "    }\n",
       "</style>\n",
       "<table border=\"1\" class=\"dataframe\">\n",
       "  <thead>\n",
       "    <tr style=\"text-align: right;\">\n",
       "      <th></th>\n",
       "      <th>schedule_season</th>\n",
       "      <th>score_home</th>\n",
       "      <th>score_away</th>\n",
       "      <th>spread_favorite</th>\n",
       "      <th>weather_temperature</th>\n",
       "      <th>weather_wind_mph</th>\n",
       "      <th>weather_humidity</th>\n",
       "    </tr>\n",
       "  </thead>\n",
       "  <tbody>\n",
       "    <tr>\n",
       "      <th>count</th>\n",
       "      <td>14086.000000</td>\n",
       "      <td>14085.00000</td>\n",
       "      <td>14085.000000</td>\n",
       "      <td>11606.000000</td>\n",
       "      <td>12550.000000</td>\n",
       "      <td>12534.000000</td>\n",
       "      <td>8498.000000</td>\n",
       "    </tr>\n",
       "    <tr>\n",
       "      <th>mean</th>\n",
       "      <td>1997.192390</td>\n",
       "      <td>22.51246</td>\n",
       "      <td>19.839546</td>\n",
       "      <td>-5.361020</td>\n",
       "      <td>59.004064</td>\n",
       "      <td>7.561353</td>\n",
       "      <td>67.172276</td>\n",
       "    </tr>\n",
       "    <tr>\n",
       "      <th>std</th>\n",
       "      <td>16.711931</td>\n",
       "      <td>10.51835</td>\n",
       "      <td>10.141933</td>\n",
       "      <td>3.429537</td>\n",
       "      <td>15.536135</td>\n",
       "      <td>5.729357</td>\n",
       "      <td>15.831903</td>\n",
       "    </tr>\n",
       "    <tr>\n",
       "      <th>min</th>\n",
       "      <td>1966.000000</td>\n",
       "      <td>0.00000</td>\n",
       "      <td>0.000000</td>\n",
       "      <td>-26.500000</td>\n",
       "      <td>-6.000000</td>\n",
       "      <td>0.000000</td>\n",
       "      <td>0.000000</td>\n",
       "    </tr>\n",
       "    <tr>\n",
       "      <th>25%</th>\n",
       "      <td>1983.000000</td>\n",
       "      <td>15.00000</td>\n",
       "      <td>13.000000</td>\n",
       "      <td>-7.000000</td>\n",
       "      <td>48.000000</td>\n",
       "      <td>1.000000</td>\n",
       "      <td>57.000000</td>\n",
       "    </tr>\n",
       "    <tr>\n",
       "      <th>50%</th>\n",
       "      <td>1998.000000</td>\n",
       "      <td>22.00000</td>\n",
       "      <td>20.000000</td>\n",
       "      <td>-4.500000</td>\n",
       "      <td>62.000000</td>\n",
       "      <td>8.000000</td>\n",
       "      <td>69.000000</td>\n",
       "    </tr>\n",
       "    <tr>\n",
       "      <th>75%</th>\n",
       "      <td>2012.000000</td>\n",
       "      <td>30.00000</td>\n",
       "      <td>27.000000</td>\n",
       "      <td>-3.000000</td>\n",
       "      <td>72.000000</td>\n",
       "      <td>11.000000</td>\n",
       "      <td>79.000000</td>\n",
       "    </tr>\n",
       "    <tr>\n",
       "      <th>max</th>\n",
       "      <td>2024.000000</td>\n",
       "      <td>72.00000</td>\n",
       "      <td>62.000000</td>\n",
       "      <td>0.000000</td>\n",
       "      <td>97.000000</td>\n",
       "      <td>40.000000</td>\n",
       "      <td>100.000000</td>\n",
       "    </tr>\n",
       "  </tbody>\n",
       "</table>\n",
       "</div>"
      ],
      "text/plain": [
       "       schedule_season   score_home    score_away  spread_favorite  \\\n",
       "count     14086.000000  14085.00000  14085.000000     11606.000000   \n",
       "mean       1997.192390     22.51246     19.839546        -5.361020   \n",
       "std          16.711931     10.51835     10.141933         3.429537   \n",
       "min        1966.000000      0.00000      0.000000       -26.500000   \n",
       "25%        1983.000000     15.00000     13.000000        -7.000000   \n",
       "50%        1998.000000     22.00000     20.000000        -4.500000   \n",
       "75%        2012.000000     30.00000     27.000000        -3.000000   \n",
       "max        2024.000000     72.00000     62.000000         0.000000   \n",
       "\n",
       "       weather_temperature  weather_wind_mph  weather_humidity  \n",
       "count         12550.000000      12534.000000       8498.000000  \n",
       "mean             59.004064          7.561353         67.172276  \n",
       "std              15.536135          5.729357         15.831903  \n",
       "min              -6.000000          0.000000          0.000000  \n",
       "25%              48.000000          1.000000         57.000000  \n",
       "50%              62.000000          8.000000         69.000000  \n",
       "75%              72.000000         11.000000         79.000000  \n",
       "max              97.000000         40.000000        100.000000  "
      ]
     },
     "execution_count": 62,
     "metadata": {},
     "output_type": "execute_result"
    }
   ],
   "source": [
    "spread_data.describe()"
   ]
  },
  {
   "cell_type": "code",
   "execution_count": 63,
   "id": "c1300f72",
   "metadata": {},
   "outputs": [
    {
     "name": "stdout",
     "output_type": "stream",
     "text": [
      "<class 'pandas.core.frame.DataFrame'>\n",
      "RangeIndex: 14086 entries, 0 to 14085\n",
      "Data columns (total 17 columns):\n",
      " #   Column               Non-Null Count  Dtype  \n",
      "---  ------               --------------  -----  \n",
      " 0   schedule_date        14086 non-null  object \n",
      " 1   schedule_season      14086 non-null  int64  \n",
      " 2   schedule_week        14086 non-null  object \n",
      " 3   schedule_playoff     14086 non-null  bool   \n",
      " 4   team_home            14086 non-null  object \n",
      " 5   score_home           14085 non-null  float64\n",
      " 6   score_away           14085 non-null  float64\n",
      " 7   team_away            14086 non-null  object \n",
      " 8   team_favorite_id     11606 non-null  object \n",
      " 9   spread_favorite      11606 non-null  float64\n",
      " 10  over_under_line      11596 non-null  object \n",
      " 11  stadium              14086 non-null  object \n",
      " 12  stadium_neutral      14086 non-null  bool   \n",
      " 13  weather_temperature  12550 non-null  float64\n",
      " 14  weather_wind_mph     12534 non-null  float64\n",
      " 15  weather_humidity     8498 non-null   float64\n",
      " 16  weather_detail       3152 non-null   object \n",
      "dtypes: bool(2), float64(6), int64(1), object(8)\n",
      "memory usage: 1.6+ MB\n"
     ]
    }
   ],
   "source": [
    "spread_data.info()"
   ]
  },
  {
   "cell_type": "code",
   "execution_count": 64,
   "id": "05db74e7",
   "metadata": {},
   "outputs": [
    {
     "data": {
      "text/plain": [
       "schedule_date              0\n",
       "schedule_season            0\n",
       "schedule_week              0\n",
       "schedule_playoff           0\n",
       "team_home                  0\n",
       "score_home                 1\n",
       "score_away                 1\n",
       "team_away                  0\n",
       "team_favorite_id        2480\n",
       "spread_favorite         2480\n",
       "over_under_line         2490\n",
       "stadium                    0\n",
       "stadium_neutral            0\n",
       "weather_temperature     1536\n",
       "weather_wind_mph        1552\n",
       "weather_humidity        5588\n",
       "weather_detail         10934\n",
       "dtype: int64"
      ]
     },
     "execution_count": 64,
     "metadata": {},
     "output_type": "execute_result"
    }
   ],
   "source": [
    "spread_data.isnull().sum()\n",
    "#Missing values"
   ]
  },
  {
   "cell_type": "code",
   "execution_count": 65,
   "id": "091ffe7f",
   "metadata": {},
   "outputs": [
    {
     "data": {
      "text/plain": [
       "schedule_date           0.000000\n",
       "schedule_season         0.000000\n",
       "schedule_week           0.000000\n",
       "schedule_playoff        0.000000\n",
       "team_home               0.000000\n",
       "score_home              0.007099\n",
       "score_away              0.007099\n",
       "team_away               0.000000\n",
       "team_favorite_id       17.606134\n",
       "spread_favorite        17.606134\n",
       "over_under_line        17.677126\n",
       "stadium                 0.000000\n",
       "stadium_neutral         0.000000\n",
       "weather_temperature    10.904444\n",
       "weather_wind_mph       11.018032\n",
       "weather_humidity       39.670595\n",
       "weather_detail         77.623172\n",
       "dtype: float64"
      ]
     },
     "execution_count": 65,
     "metadata": {},
     "output_type": "execute_result"
    }
   ],
   "source": [
    "(spread_data.isnull().sum() / len(spread_data)) * 100\n",
    "\n"
   ]
  },
  {
   "cell_type": "code",
   "execution_count": 66,
   "id": "744d0426",
   "metadata": {},
   "outputs": [],
   "source": [
    "# Drop rows with missing values in 'score_away'\n",
    "spread_data['score_away'] = spread_data['score_away'].fillna(spread_data['score_away'].mean())\n",
    "\n",
    "# Drop rows with missing values in 'team_favorite_id' and 'spread_favorite'\n",
    "spread_data['spread_favorite'] = spread_data['spread_favorite'].fillna(spread_data['spread_favorite'].mean())\n"
   ]
  },
  {
   "cell_type": "code",
   "execution_count": 75,
   "id": "5399f195",
   "metadata": {},
   "outputs": [],
   "source": [
    "# Point Differential: Calculate the difference between the home and away scores.\n",
    "spread_data['point_differential'] = spread_data['score_home'] - spread_data['score_away']\n",
    "\n",
    "# Spread Error: Calculate how far off the spread prediction was from the actual point differential.\n",
    "spread_data['spread_error'] = spread_data['spread_favorite'] - spread_data['point_differential']\n"
   ]
  },
  {
   "cell_type": "code",
   "execution_count": 68,
   "id": "141c2bc5",
   "metadata": {},
   "outputs": [],
   "source": [
    "spread_data.drop(columns=['schedule_week', 'stadium', 'stadium_neutral', 'weather_detail', 'over_under_line'], inplace=True)\n"
   ]
  },
  {
   "cell_type": "code",
   "execution_count": 55,
   "id": "4973593d",
   "metadata": {},
   "outputs": [
    {
     "data": {
      "image/png": "[encoded data removed]",
      "text/plain": [
       "<Figure size 1500x600 with 1 Axes>"
      ]
     },
     "metadata": {},
     "output_type": "display_data"
    }
   ],
   "source": [
    "plt.figure(figsize=(15, 6))\n",
    "sns.boxplot(x='schedule_season', y='spread_error', data=spread_data)\n",
    "plt.title('Spread Error Over Seasons')\n",
    "plt.xlabel('Season')\n",
    "plt.ylabel('Spread Error')\n",
    "plt.xticks(rotation=90)\n",
    "plt.show()\n"
   ]
  },
  {
   "cell_type": "code",
   "execution_count": 71,
   "id": "22ab8564",
   "metadata": {},
   "outputs": [
    {
     "name": "stdout",
     "output_type": "stream",
     "text": [
      "Percentage of games where teams did not cover the spread in 2024: 65.96%\n"
     ]
    }
   ],
   "source": [
    "data_2024 = spread_data[spread_data['schedule_season'] == 2024]\n",
    "no_cover_rate = (data_2024['spread_error'] < 0).mean()\n",
    "print(f\"Percentage of games where teams did not cover the spread in 2024: {no_cover_rate * 100:.2f}%\")\n",
    "\n"
   ]
  },
  {
   "cell_type": "code",
   "execution_count": 74,
   "id": "766bc9f2",
   "metadata": {},
   "outputs": [
    {
     "name": "stdout",
     "output_type": "stream",
     "text": [
      "largest is: 1968\n",
      "Largest IQR value: 27.0\n"
     ]
    }
   ],
   "source": [
    "iqr_per_season = spread_data.groupby('schedule_season')['spread_error'].quantile(0.75) - spread_data.groupby('schedule_season')['spread_error'].quantile(0.25)\n",
    "largest_iqr_season = iqr_per_season.idxmax()\n",
    "print(f\"largest is: {largest_iqr_season}\")\n",
    "print(f\"Largest IQR value: {iqr_per_season[largest_iqr_season]}\")\n"
   ]
  },
  {
   "cell_type": "markdown",
   "id": "b04c162c",
   "metadata": {},
   "source": [
    "## Insights from Spread Error Analysis\n",
    "\n",
    "### Spread Error Over Seasons\n",
    "The boxplot visualizes the spread error distribution across all NFL seasons from 1966 to 2024. Notable observations include:\n",
    "- In **2024**, 65.96% of games resulted in teams failing to cover the spread. This indicates that sportsbooks may have overestimated or underestimated teams' performances more frequently than usual in this season.\n",
    "- Spread errors in 2024 show tighter variability compared to other seasons, suggesting that spreads were generally more accurate this past NFL season.\n",
    "\n"
   ]
  },
  {
   "cell_type": "code",
   "execution_count": null,
   "id": "de99c06b",
   "metadata": {},
   "outputs": [],
   "source": []
  }
 ],
 "metadata": {
  "kernelspec": {
   "display_name": "Python 3 (ipykernel)",
   "language": "python",
   "name": "python3"
  },
  "language_info": {
   "codemirror_mode": {
    "name": "ipython",
    "version": 3
   },
   "file_extension": ".py",
   "mimetype": "text/x-python",
   "name": "python",
   "nbconvert_exporter": "python",
   "pygments_lexer": "ipython3",
   "version": "3.9.19"
  }
 },
 "nbformat": 4,
 "nbformat_minor": 5
}
